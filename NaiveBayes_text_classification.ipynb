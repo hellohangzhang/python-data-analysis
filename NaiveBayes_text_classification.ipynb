{
 "cells": [
  {
   "cell_type": "code",
   "execution_count": 1,
   "metadata": {},
   "outputs": [],
   "source": [
    "import jieba"
   ]
  },
  {
   "cell_type": "code",
   "execution_count": 2,
   "metadata": {},
   "outputs": [],
   "source": [
    "import os"
   ]
  },
  {
   "cell_type": "code",
   "execution_count": 3,
   "metadata": {},
   "outputs": [],
   "source": [
    "#将一个文件的内容分词，以空格隔开，生成一个字符串。\n",
    "#gb18030是一种中文的编码方式，这里必须用。\n",
    "def cut_words(file_dir):\n",
    "    with open(file_dir,encoding='gb18030') as file_obj:\n",
    "        file_context = file_obj.read()\n",
    "        file_context = jieba.cut(file_context)\n",
    "        file_context = ' '.join(file_context)\n",
    "        return file_context"
   ]
  },
  {
   "cell_type": "code",
   "execution_count": 4,
   "metadata": {},
   "outputs": [],
   "source": [
    "#将一个文件夹内所有的文件分此后放在列表里，列表的每个元素都是一个文件分词后的字符串，同时在另外一个列表里存储每个元素的标签信息。\n",
    "def load_word(file_dir,file_label):\n",
    "    contents = []\n",
    "    labels = []\n",
    "    filelists = os.listdir(file_dir)\n",
    "    for filelist in filelists:\n",
    "        contents.append(cut_words(file_dir + '/' + filelist))\n",
    "        labels.append(file_label)\n",
    "    return contents,labels"
   ]
  },
  {
   "cell_type": "code",
   "execution_count": 5,
   "metadata": {
    "scrolled": true
   },
   "outputs": [
    {
     "name": "stderr",
     "output_type": "stream",
     "text": [
      "Building prefix dict from the default dictionary ...\n",
      "Loading model from cache C:\\Users\\yjh\\AppData\\Local\\Temp\\jieba.cache\n",
      "Loading model cost 0.913 seconds.\n",
      "Prefix dict has been built succesfully.\n"
     ]
    }
   ],
   "source": [
    "#加载训练数据\n",
    "contents_female_train,labels_female_train = load_word('text classification/train/女性','女性')\n",
    "contents_sport_train,labels_sport_train = load_word('text classification/train/体育','体育')"
   ]
  },
  {
   "cell_type": "code",
   "execution_count": 6,
   "metadata": {},
   "outputs": [],
   "source": [
    "#加载测试数据\n",
    "contents_female_test,labels_female_test = load_word('text classification/test/女性','女性')\n",
    "contents_sport_test,labels_sport_test = load_word('text classification/test/体育','体育')"
   ]
  },
  {
   "cell_type": "code",
   "execution_count": 7,
   "metadata": {},
   "outputs": [],
   "source": [
    "#将两种类型的训练数据合并，放在一个列表里\n",
    "contents_train = []\n",
    "labels_train = []\n",
    "contents_train = contents_female_train + contents_sport_train\n",
    "labels_train = labels_female_train + labels_sport_train"
   ]
  },
  {
   "cell_type": "code",
   "execution_count": 8,
   "metadata": {},
   "outputs": [],
   "source": [
    "#将两种类型的测试数据合并，放在一个列表里\n",
    "contents_test = []\n",
    "labels_test = []\n",
    "contents_test = contents_female_test + contents_sport_test\n",
    "labels_test = labels_female_test + labels_sport_test"
   ]
  },
  {
   "cell_type": "code",
   "execution_count": 9,
   "metadata": {},
   "outputs": [],
   "source": [
    "#加载停用词。这里需要先编码后解码，应对中文乱码问题。\n",
    "with open('text classification/stop/stopword.txt',encoding='utf-8') as file_obj:\n",
    "    stop_words = file_obj.read()\n",
    "    stop_words = stop_words.encode('utf-8').decode('utf-8-sig')\n",
    "    stop_words = stop_words.split('\\n')"
   ]
  },
  {
   "cell_type": "code",
   "execution_count": 10,
   "metadata": {},
   "outputs": [
    {
     "name": "stderr",
     "output_type": "stream",
     "text": [
      "c:\\users\\yjh\\appdata\\local\\programs\\python\\python37-32\\lib\\site-packages\\sklearn\\feature_extraction\\text.py:286: UserWarning: Your stop_words may be inconsistent with your preprocessing. Tokenizing the stop words generated tokens ['ain', 'aren', 'couldn', 'didn', 'doesn', 'don', 'hadn', 'hasn', 'haven', 'isn', 'll', 'mon', 'shouldn', 've', 'wasn', 'weren', 'won', 'wouldn'] not in stop_words.\n",
      "  sorted(inconsistent))\n"
     ]
    }
   ],
   "source": [
    "#通过TfidVectorizer类将文本变成特征向量\n",
    "'''max_df 参数用来描述单词在文档中的最高出现率。\n",
    "假设 max_df=0.5，代表一个单词在 50% 的文档中都出现过了，那么它只携带了非常少的信息，因此就不作为分词统计。\n",
    "'''\n",
    "from sklearn.feature_extraction.text import TfidfVectorizer\n",
    "tf = TfidfVectorizer(stop_words=stop_words,max_df=0.5)\n",
    "features_train = tf.fit_transform(contents_train)\n",
    "features_test = tf.transform(contents_test)"
   ]
  },
  {
   "cell_type": "code",
   "execution_count": 11,
   "metadata": {},
   "outputs": [],
   "source": [
    "#生成多项式朴素贝叶斯分类器\n",
    "'''\n",
    "当 alpha=1 时，使用的是 Laplace 平滑。Laplace 平滑就是采用加 1 的方式，来统计没有出现过的单词的概率。\n",
    "这样当训练样本很大的时候，加 1 得到的概率变化可以忽略不计，也同时避免了零概率的问题。\n",
    "\n",
    "当 0<alpha<1 时，使用的是 Lidstone 平滑。\n",
    "对于 Lidstone 平滑来说，alpha 越小，迭代次数越多，精度越高。\n",
    "可以设置 alpha 为 0.001。\n",
    "\n",
    "'''\n",
    "from sklearn.naive_bayes import MultinomialNB\n",
    "clf = MultinomialNB(alpha=0.001)"
   ]
  },
  {
   "cell_type": "code",
   "execution_count": 12,
   "metadata": {},
   "outputs": [
    {
     "data": {
      "text/plain": [
       "MultinomialNB(alpha=0.001, class_prior=None, fit_prior=True)"
      ]
     },
     "execution_count": 12,
     "metadata": {},
     "output_type": "execute_result"
    }
   ],
   "source": [
    "#对分类器进行训练\n",
    "clf.fit(features_train,labels_train)"
   ]
  },
  {
   "cell_type": "code",
   "execution_count": 13,
   "metadata": {
    "scrolled": true
   },
   "outputs": [
    {
     "data": {
      "text/plain": [
       "0.9673202614379085"
      ]
     },
     "execution_count": 13,
     "metadata": {},
     "output_type": "execute_result"
    }
   ],
   "source": [
    "#评估分类器效果\n",
    "clf.score(features_test,labels_test)"
   ]
  }
 ],
 "metadata": {
  "kernelspec": {
   "display_name": "Python 3",
   "language": "python",
   "name": "python3"
  },
  "language_info": {
   "codemirror_mode": {
    "name": "ipython",
    "version": 3
   },
   "file_extension": ".py",
   "mimetype": "text/x-python",
   "name": "python",
   "nbconvert_exporter": "python",
   "pygments_lexer": "ipython3",
   "version": "3.7.0"
  }
 },
 "nbformat": 4,
 "nbformat_minor": 2
}
